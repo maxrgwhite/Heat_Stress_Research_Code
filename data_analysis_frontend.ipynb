{
 "cells": [
  {
   "cell_type": "code",
   "execution_count": 33,
   "metadata": {},
   "outputs": [],
   "source": [
    "%run data_analysis_backend.ipynb\n",
    "import os\n",
    "import numpy as np\n",
    "import cf_units\n",
    "import cartopy.crs as ccrs\n",
    "\n",
    "import iris\n",
    "import iris.plot as iplt\n",
    "from iris import quickplot as qplt\n",
    "\n",
    "import matplotlib.pyplot as plt\n",
    "from matplotlib.colors import TwoSlopeNorm\n",
    "import matplotlib.colors as mcolors\n",
    "import matplotlib.dates as mdates"
   ]
  },
  {
   "cell_type": "code",
   "execution_count": null,
   "metadata": {},
   "outputs": [],
   "source": [
    "# tas: temperature at surface (in K)\n",
    "# rh: relative humidity (in %)\n",
    "# td: dew point temperature (in K)\n",
    "# es: water vapor pressure (in kilopascals)\n",
    "\n",
    "# Heat Index 22 is the Lu and Romps heat index cube\n",
    "\n",
    "location_name = 'Limpopo'\n",
    "start_year = 1950\n",
    "end_year = 2024\n",
    "\n",
    "output_folder = f'{output_folder}'\n",
    "\n",
    "# INSTRUCTIONS: Change to a more informative shapefile to overlay on the map if this is insufficient being an outline\n",
    "# Specify shapefile to work with\n",
    "shapefile = gpd.read_file(basic_info.shapefile_outline)\n",
    "print('Shapefile loaded')\n",
    "\n",
    "# Specify shapefile to work with\n",
    "shapefile = gpd.read_file('/Users/maxwhite/Documents/Met_Office_Work/Heat_index_Algorithms/Data/Limpopo/Limpopo_Boundaries.geojson')\n",
    "print('Shapefile loaded')\n",
    "\n",
    "heat_indeces_cubelist, tas_cube, rh_cube, td_cube, es_cube = load_my_files()"
   ]
  },
  {
   "cell_type": "code",
   "execution_count": 19,
   "metadata": {},
   "outputs": [],
   "source": [
    "# CREATING A TEMPORARY SUBSET\n",
    "heat_indeces_cubelist_subset = iris.cube.CubeList([])\n",
    "for cube in heat_indeces_cubelist:\n",
    "    cube_subset = cube.extract(iris.Constraint(time=lambda cell: 1950 <= cell.point.year <= 1994))\n",
    "    heat_indeces_cubelist_subset.append(cube_subset)\n",
    "\n",
    "heat_indeces_cubelist = heat_indeces_cubelist_subset\n",
    "\n",
    "tas_cube = tas_cube.extract(iris.Constraint(time=lambda cell: 1950 <= cell.point.year <= 1994))\n",
    "rh_cube = rh_cube.extract(iris.Constraint(time=lambda cell: 1950 <= cell.point.year <= 1994))"
   ]
  },
  {
   "cell_type": "markdown",
   "metadata": {},
   "source": [
    "## Province-level descriptives: temperature and humidity"
   ]
  },
  {
   "cell_type": "markdown",
   "metadata": {},
   "source": [
    "A map of the region"
   ]
  },
  {
   "cell_type": "code",
   "execution_count": null,
   "metadata": {},
   "outputs": [],
   "source": [
    "plot_my_region()"
   ]
  },
  {
   "cell_type": "markdown",
   "metadata": {},
   "source": [
    "Average temperature and relative humidity per month"
   ]
  },
  {
   "cell_type": "code",
   "execution_count": null,
   "metadata": {},
   "outputs": [],
   "source": [
    "plot_monthly_average_tas_and_rh()"
   ]
  },
  {
   "cell_type": "markdown",
   "metadata": {},
   "source": [
    "Maps of minimum, mean, and maximum temperatures per grid cell across the available data.\n",
    "- Used the mean rather than median as interested in extremes and the mean is more sensitive to this"
   ]
  },
  {
   "cell_type": "code",
   "execution_count": null,
   "metadata": {},
   "outputs": [],
   "source": [
    "create_season_year_aggregates()\n",
    "create_overall_aggregates()"
   ]
  },
  {
   "cell_type": "markdown",
   "metadata": {},
   "source": [
    "# Timeseries"
   ]
  },
  {
   "cell_type": "markdown",
   "metadata": {},
   "source": [
    "## Heat Index over time"
   ]
  },
  {
   "cell_type": "markdown",
   "metadata": {},
   "source": [
    "Plot of monthly spatial maximum values for min, 25th percentile, mean, median, 75th percentile, and max values for Lu and Romps' (2022) Heat Index"
   ]
  },
  {
   "cell_type": "code",
   "execution_count": null,
   "metadata": {},
   "outputs": [],
   "source": [
    "temporally_plot_monthly_mean_values_from_Lu_and_Romps_against_air_temperature()"
   ]
  },
  {
   "cell_type": "markdown",
   "metadata": {},
   "source": [
    "# Maps"
   ]
  },
  {
   "cell_type": "code",
   "execution_count": null,
   "metadata": {},
   "outputs": [],
   "source": [
    "maximum_values_per_cell_per_algorithm = find_maximum_values_per_cell_per_algorithm()\n",
    "maximum_values_per_cell_for_tas = find_maximum_values_per_cell_for_tas()\n"
   ]
  },
  {
   "cell_type": "code",
   "execution_count": null,
   "metadata": {},
   "outputs": [],
   "source": [
    "lu_and_romps_maximum_cell_values = find_maximum_values_per_cell_per_algorithm()[21]"
   ]
  },
  {
   "cell_type": "markdown",
   "metadata": {},
   "source": [
    "# Maps for decadal average summaries"
   ]
  },
  {
   "cell_type": "code",
   "execution_count": null,
   "metadata": {},
   "outputs": [],
   "source": [
    "statistics = calculate_statistics_per_decade(heat_indeces_cubelist[21])\n",
    "plot_decadal_maps(statistics, output_folder)"
   ]
  },
  {
   "cell_type": "markdown",
   "metadata": {},
   "source": [
    "# Working with the baseline for the projections data"
   ]
  },
  {
   "cell_type": "code",
   "execution_count": 39,
   "metadata": {},
   "outputs": [],
   "source": [
    "# INSTRUCTIONS: Change the years below if you want to extract a different range of years\n",
    "for cube in heat_indeces_cubelist:\n",
    "    cube.extract(iris.Constraint(time=lambda cell: 1995 <= cell.point.year <= 2014))"
   ]
  },
  {
   "cell_type": "code",
   "execution_count": null,
   "metadata": {},
   "outputs": [],
   "source": [
    "# Lu and Romps plot for comparison purposes\n",
    "\n",
    "lu_and_romps_average_maximum_cell_values = find_temporal_average_maximum_values_per_cell_per_algorithm()[21]\n",
    "\n",
    "plot_map_for_lu_and_romps_average_maximum_cell_values()"
   ]
  },
  {
   "cell_type": "code",
   "execution_count": null,
   "metadata": {},
   "outputs": [],
   "source": [
    "lu_and_romps_average_maximum_cell_values = find_temporal_average_maximum_values_per_cell_per_algorithm()[21]\n",
    "\n",
    "plot_map_of_average_maximum_cell_values_per_algorithm()"
   ]
  }
 ],
 "metadata": {
  "kernelspec": {
   "display_name": "testenv",
   "language": "python",
   "name": "python3"
  },
  "language_info": {
   "codemirror_mode": {
    "name": "ipython",
    "version": 3
   },
   "file_extension": ".py",
   "mimetype": "text/x-python",
   "name": "python",
   "nbconvert_exporter": "python",
   "pygments_lexer": "ipython3",
   "version": "3.12.2"
  }
 },
 "nbformat": 4,
 "nbformat_minor": 2
}
