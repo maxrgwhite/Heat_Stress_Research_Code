{
 "cells": [
  {
   "cell_type": "markdown",
   "metadata": {},
   "source": [
    "Running this code will compare 21 heat index algorithms from Anderson et al (2013) to Lu and Romps (2022)\n",
    "If using hourly-level data, expect considerable waiting times (8+ hours)"
   ]
  },
  {
   "cell_type": "code",
   "execution_count": 1,
   "metadata": {},
   "outputs": [],
   "source": [
    "%run cube_creation_backend.ipynb\n",
    "import basic_info\n",
    "import iris.quickplot as qplt\n",
    "import geopandas as gpd"
   ]
  },
  {
   "cell_type": "markdown",
   "metadata": {},
   "source": [
    "## Step 1: Specify filepaths and alike (see below for instructions)"
   ]
  },
  {
   "cell_type": "code",
   "execution_count": 2,
   "metadata": {},
   "outputs": [],
   "source": [
    "# INSTRUCTIONS: Specify the following as integers\n",
    "filepaths = {'tas': basic_info.tas_filepath,\n",
    "            'td': basic_info.td_filepath}\n",
    "\n",
    "data_folder = basic_info.data_folder # Changing the working directory to the data folder so all files save there"
   ]
  },
  {
   "cell_type": "markdown",
   "metadata": {},
   "source": [
    "## Step 2: Create the cubes for absolute vapour pressure and dew point temperature"
   ]
  },
  {
   "cell_type": "code",
   "execution_count": null,
   "metadata": {},
   "outputs": [],
   "source": [
    "tas_cube, rh_cube, es_cube, td_cube = create_my_files() # creates tas, rh, td, and es cubes (so named, e.g. \"tas_cube\") unless they already exist\n",
    "\n",
    "# tas_cube: temperature at surface (in ˚C)\n",
    "# rh_cube: relative humidity (in %)\n",
    "# td_cube: dew point temperature (in ˚C)\n",
    "# es_cube: water vapor pressure (in kilopascals)"
   ]
  }
 ],
 "metadata": {
  "kernelspec": {
   "display_name": "testenv",
   "language": "python",
   "name": "python3"
  },
  "language_info": {
   "codemirror_mode": {
    "name": "ipython",
    "version": 3
   },
   "file_extension": ".py",
   "mimetype": "text/x-python",
   "name": "python",
   "nbconvert_exporter": "python",
   "pygments_lexer": "ipython3",
   "version": "3.12.2"
  }
 },
 "nbformat": 4,
 "nbformat_minor": 2
}
